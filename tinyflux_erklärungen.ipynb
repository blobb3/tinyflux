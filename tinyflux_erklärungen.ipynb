{
 "cells": [
  {
   "cell_type": "markdown",
   "metadata": {},
   "source": [
    "### Wann kommt etwas in **fields**, **tags**, **measurements** oder **time** in TinyFlux?\n",
    "\n",
    "1. **Fields** (Felder):\n",
    "   - **Fields** enthalten **numerische oder messbare Daten**. Diese Werte ändern sich häufig und werden in der Regel zur Analyse verwendet.\n",
    "   - Typische Beispiele für **Fields**:\n",
    "     - Temperaturmessungen (z. B. `\"temperature\"`)\n",
    "     - Luftfeuchtigkeit\n",
    "     - Druck\n",
    "   - Aus der CSV-Datei: In diesem Fall wird die Spalte **\"temperature\"** in das `fields`-Dictionary eingefügt.\n",
    "\n",
    "   **Beispiel im Code**:\n",
    "   ```python\n",
    "   fields={\n",
    "       \"temperature\": float(row[\"temperature\"])  # Numerische Felder\n",
    "   }```\n",
    "\n",
    "2. **Tags** (Schlagwörter):\n",
    "\n",
    "    - **Tags** sind nicht-numerische Daten, die zusätzliche Informationen über den Datensatz enthalten. Sie sind oft statische Merkmale, die den Kontext eines Datenpunkts beschreiben.\n",
    "    - Typische Tags:\n",
    "        - Sensor-ID (z. B. welcher Sensor die Messung vorgenommen hat)\n",
    "        - Status (z. B. ob der Sensor betriebsbereit oder in Wartung ist)\n",
    "        - Ort (z. B. der Standort des Sensors)\n",
    "    - Aus der CSV-Datei: Hier kommen die Spalten \"sensor_id\" und \"status\" in das tags-Dictionary.\n",
    "\n",
    "    **Beispiel im Code**:\n",
    "   ```python\n",
    "    tags={\n",
    "    \"sensor_id\": row[\"sensor_id\"],  # Nicht-numerische Felder (z.B. Sensor-ID)\n",
    "    \"status\": row[\"status\"]  # Status des Sensors (z.B. operational)\n",
    "    }```\n",
    "\n",
    "3. **Time** (Zeitstempel):\n",
    "\n",
    "    - Jeder Datensatz in TinyFlux benötigt einen Zeitstempel, da es sich um eine Zeitserien-Datenbank handelt. Der Zeitstempel gibt an, wann die Messung stattgefunden hat.\n",
    "    - In der CSV-Datei: Dieser Wert wird in der Spalte \"time\" gespeichert und muss in ein datetime-Objekt umgewandelt werden, damit TinyFlux den Zeitstempel korrekt verarbeiten kann.\n",
    "\n",
    "    **Beispiel im Code**:\n",
    "   ```python\n",
    "   time=datetime.strptime(row[\"time\"], \"%Y-%m-%d %H:%M:%S\")  # Zeitstempel wird formatiert\n",
    "   ```\n",
    "4. **Measurements** (Messungen):\n",
    "\n",
    "    **Measurements** bezeichnen, was gemessen wurde. Dies ist eine Kategorisierung für die Art der Messung.\n",
    "    In deinem Beispiel wurde der Messungstyp als *\"blockchain_transactions\"* festgelegt, was möglicherweise nicht ideal für Temperaturmessungen ist. Hier könntest du z. B. \"temperature_readings\" verwenden.\n",
    "\n",
    "    **Beispiel im Code**:\n",
    "   ```python\n",
    "    measurement=\"temperature_readings\"  # Name der Messung\n",
    "    ```\n",
    "\n",
    "\n"
   ]
  },
  {
   "cell_type": "markdown",
   "metadata": {},
   "source": [
    "###  Zusammenfassung:\n",
    "\n",
    "- Numerische Werte (wie \"temperature\") kommen in **fields**.\n",
    "- Nicht-numerische Informationen (wie \"sensor_id\" und \"status\") gehen in **tags.**\n",
    "- Zeitstempel (wie \"time\") gehen in das **time-Feld** und müssen im richtigen datetime-Format vorliegen.\n",
    "- Die Art der Messung (wie \"temperature_readings\") wird als **measurement** festgelegt."
   ]
  },
  {
   "cell_type": "markdown",
   "metadata": {},
   "source": [
    "### Was ist ein Point in TinyFlux?\n",
    "\n",
    "- Ein Point ist der grundlegende Datentyp in TinyFlux, der einen einzelnen Datenpunkt repräsentiert. Jeder Punkt enthält:\n",
    "    1. time: Den Zeitstempel des Datensatzes (wann wurde die Messung gemacht?).\n",
    "    2. fields: Die numerischen Messwerte (z. B. Temperatur).\n",
    "    3. tags: Nicht-numerische Metadaten, die den Kontext des Punktes beschreiben (z. B. Sensor-ID, Status).\n",
    "    4. measurement: Eine allgemeine Bezeichnung für die Art der Messung (z. B. \"temperature_readings\").\n",
    "\n",
    "    Ein Beispiel für die Erstellung eines Point-Objekts:\n",
    "\n",
    "    ```python\n",
    "    point = Point(\n",
    "        time=datetime.now(),  # Aktuelle Zeit\n",
    "        fields={\"temperature\": 23.5},  # Messwert für Temperatur\n",
    "        tags={\"sensor_id\": \"1\", \"status\": \"operational\"}  # Metadaten\n",
    "    )"
   ]
  },
  {
   "cell_type": "markdown",
   "metadata": {},
   "source": [
    "### TinyFlux-Datenbank: Speichern von Daten\n",
    "\n",
    "- Die TinyFlux-Datenbank speichert Daten als eine Reihe von Zeitpunkten. Jeder neue Datensatz wird als Point eingefügt. Du kannst Daten direkt einfügen, indem du entweder einzelne Punkte (insert()) oder mehrere Punkte auf einmal (insert_multiple()) hinzufügst.\n",
    "\n",
    "- Beispiel:\n",
    "\n",
    "    ``` python\n",
    "    db.insert(point)  # Einzelnen Punkt speichern\n",
    "    ```\n",
    "\n",
    "- Der Code in deinem Beispiel liest eine CSV-Datei Zeile für Zeile aus und fügt diese als Point-Objekte in die TinyFlux-Datenbank ein."
   ]
  },
  {
   "cell_type": "markdown",
   "metadata": {},
   "source": [
    "### Abfragen in TinyFlux\n",
    "\n",
    "- TinyFlux bietet flexible Abfragemöglichkeiten, um Daten aus der Datenbank zu extrahieren. Du kannst nach Zeitstempeln, Tags oder Feldwerten filtern.\n",
    "- Es gibt drei spezielle Query-Typen:\n",
    "        1. *TimeQuery():* Zum Filtern nach Zeit (z. B. alle Messungen vor oder nach einem bestimmten Zeitpunkt).\n",
    "        2. *T*agQuery():* Zum Filtern nach Tags (z. B. alle Messungen eines bestimmten Sensors).\n",
    "        3. *FieldQuery():* Zum Filtern nach numerischen Feldwerten (z. B. alle Messungen, bei denen die Temperatur über 30 Grad lag).\n",
    "- Beispiel für eine Zeitabfrage:\n",
    "\n",
    "     ``` python\n",
    "        time_query = TimeQuery() >= datetime(2023, 1, 1)\n",
    "        results = db.search(time_query)\n",
    "    ```\n",
    "    "
   ]
  },
  {
   "cell_type": "markdown",
   "metadata": {},
   "source": [
    "### Kombination von Abfragen\n",
    "\n",
    "- Du kannst verschiedene Abfragetypen kombinieren, um komplexere Suchanfragen zu stellen. Verwende dabei & (AND) oder | (OR), um mehrere Bedingungen zu verknüpfen.\n",
    "\n",
    "- Beispiel: Alle Messungen nach dem 1. Januar 2024, die den Status \"operational\" haben und eine Temperatur über 20 Grad aufweisen:\n",
    "    ``` python\n",
    "\n",
    "    time_query = TimeQuery() >= datetime(2024, 1, 1)\n",
    "    tag_query = TagQuery().status == \"operational\"\n",
    "    field_query = FieldQuery().temperature > 20.0\n",
    "\n",
    "    results = db.search(time_query & tag_query & field_query)\n",
    "    ``` \n"
   ]
  },
  {
   "cell_type": "markdown",
   "metadata": {},
   "source": [
    "### TinyFlux ist In-Memory:\n",
    "\n",
    "- TinyFlux ist standardmäßig eine in-memory (im Speicher) Datenbank, was bedeutet, dass alle Daten im RAM gespeichert werden. Wenn du die Datenbank mit einer Datei verbindest (wie in deinem Beispiel temperatures.db), werden die Daten auf die Festplatte geschrieben. Dies ermöglicht dir, auch nach einem Neustart des Programms auf die Daten zuzugreifen."
   ]
  },
  {
   "cell_type": "markdown",
   "metadata": {},
   "source": [
    "### Zusammenfassung der wichtigen Punkte:\n",
    "\n",
    "- **Zeitserien-Datenbank:** TinyFlux speichert und verarbeitet Daten, die mit einem Zeitstempel verknüpft sind.\n",
    "- **Datenstruktur (Point):** Jeder Punkt enthält einen Zeitstempel, Felder (numerische Werte) und Tags (Metadaten).\n",
    "- **Abfragen:** TinyFlux bietet Query-Typen für Zeit, Tags und Felder. Diese können kombiniert werden, um komplexe Suchanfragen zu erstellen.\n",
    "- **CSV-Datei:** Der Code liest Daten aus einer CSV-Datei und fügt sie in die TinyFlux-Datenbank ein.\n",
    "- **Pandas DataFrame:** Die Abfrageergebnisse können in einen DataFrame umgewandelt werden, um die Daten einfacher zu analysieren"
   ]
  },
  {
   "cell_type": "markdown",
   "metadata": {},
   "source": [
    "Man kann beliebig fields und tags hinzufügen, auch wenn sie nicht im Excel-File sind. Denn:\n",
    "- Fields: Sind numerische Werte, die du direkt hinzufügen kannst. Wenn ein Wert nicht aus der CSV stammt, könntest du ihn statisch setzen oder berechnen.\n",
    "- Tags: Sind nicht-numerische Metadaten. Auch hier kannst du beliebige neue Tags definieren und statische oder berechnete Werte zuweisen.\n",
    "\n",
    "### Beispiel: Hinzufügen von zusätzlichen fields und tags\n",
    "\n",
    "Nehmen wir an, du möchtest ein zusätzliches field namens \"humidity\" und ein tag namens \"location\" hinzufügen. Diese Felder sind nicht in der CSV, aber du könntest ihnen einen festen Wert oder einen Wert auf Basis anderer Logik zuweisen.\n",
    "\n",
    "``` python\n",
    "# Read CSV and insert data into TinyFlux\n",
    "with open(\"example_data/synthetic_temperature_readings.csv\", mode=\"r\") as file:\n",
    "    reader = csv.DictReader(file)\n",
    "    for row in reader:\n",
    "        point = Point(\n",
    "            # Hier wird der Zeitstempel zugewiesen\n",
    "            time=datetime.strptime(row[\"time\"], \"%Y-%m-%d %H:%M:%S\"),\n",
    "            measurement=\"temperature_readings\",  # Du kannst hier den Messungstyp anpassen\n",
    "\n",
    "            # Fields: Du kannst beliebig weitere numerische Felder hinzufügen\n",
    "            fields={\n",
    "                \"temperature\": float(row[\"temperature\"]),\n",
    "                \"humidity\": 50.0  # Füge eine konstante Luftfeuchtigkeit hinzu, falls nicht in CSV\n",
    "            },\n",
    "\n",
    "            # Tags: Du kannst beliebige zusätzliche Metadaten (nicht-numerische) hinzufügen\n",
    "            tags={\n",
    "                \"sensor_id\": row[\"sensor_id\"],\n",
    "                \"status\": row[\"status\"],\n",
    "                \"location\": \"Berlin\"  # Füge einen festen Standort hinzu, wenn er nicht in der CSV ist\n",
    "            }\n",
    "        )\n",
    "        # Der erstellte Datenpunkt (point) wird in die TinyFlux-Datenbank eingefügt\n",
    "        db.insert(point)\n",
    "``` \n",
    "### Was passiert, wenn Felder oder Tags nicht in der CSV vorhanden sind?\n",
    "\n",
    "- Wenn ein Feld oder Tag, das du hinzufügst, nicht in der CSV vorhanden ist, erhältst du keinen Fehler, solange du dem Feld oder Tag manuell einen Wert zuweist, wie im Beispiel. TinyFlux fügt es einfach mit dem Wert ein, den du zugewiesen hast.\n",
    "\n",
    "- Fehler vermeiden: Achte darauf, dass alle Felder und Tags, die du im Code anführst, entweder in der CSV existieren oder dass du sicherstellst, dass ihnen im Code ein gültiger Wert zugewiesen wird.\n",
    "\n",
    "### Zusammenfassung:\n",
    "\n",
    "Ja, du kannst beliebig viele Felder (fields) und Tags (tags) hinzufügen, selbst wenn sie nicht in der CSV-Datei sind. Du musst ihnen jedoch manuell Werte zuweisen, entweder als feste Werte oder auf Grundlage von Berechnungen. TinyFlux bietet hier viel Flexibilität, um zusätzliche Informationen zu speichern, die möglicherweise nicht direkt aus der CSV kommen."
   ]
  },
  {
   "cell_type": "code",
   "execution_count": null,
   "metadata": {
    "vscode": {
     "languageId": "plaintext"
    }
   },
   "outputs": [],
   "source": [
    "# durchschnitt\n",
    "df_result_field['temperature'].mean()\n",
    "\n",
    "# SUmme\n",
    "df_result_field['temperature'].sum()\n",
    "\n",
    "# Die Methode df_result_field['temperature'].count() gibt die Anzahl der nicht-leeren Werte (nicht-NaN-Werte) in der Spalte 'temperature' des DataFrames df_result_field zurück.\n",
    "df_result_field['temperature'].count()\n",
    "\n",
    "# min und max\n",
    "df_result_field['temperature'].max()\n",
    "df_result_field['temperature'].min()\n",
    "\n",
    "# Median\n",
    "df_result_field['temperature'].median()\n",
    "\n",
    "# Standardabweichung\n",
    "df_result_field['temperature'].std()\n",
    "\n",
    "# komplette statistik\n",
    "df_result_field['temperature'].describe()\n"
   ]
  },
  {
   "cell_type": "markdown",
   "metadata": {},
   "source": []
  }
 ],
 "metadata": {
  "language_info": {
   "name": "python"
  }
 },
 "nbformat": 4,
 "nbformat_minor": 2
}
